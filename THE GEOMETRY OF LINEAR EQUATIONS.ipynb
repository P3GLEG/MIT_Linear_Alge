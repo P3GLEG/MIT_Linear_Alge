{
 "cells": [
  {
   "cell_type": "markdown",
   "metadata": {},
   "source": [
    "**Problem 1.1:** (1.3 #4. Introduction to Linear Algebra: Strang) Find a combination\n",
    "x1**w1** + x2**w2** + x3**w3** that gives the zero vector:\n",
    "\\begin{equation*}\n",
    "\\mathbf{W}_1 =  \\begin{bmatrix}\n",
    "1\\\\2\\\\3\n",
    "\\end{bmatrix}\n",
    "\\mathbf{W}_2 =  \\begin{bmatrix}\n",
    "4\\\\5\\\\6\n",
    "\\end{bmatrix}\n",
    "\\mathbf{W}_3 =  \\begin{bmatrix}\n",
    "7\\\\8\\\\9\n",
    "\\end{bmatrix}\n",
    "\\end{equation*}\n",
    "Those vectors are (independent)(dependent).\n",
    "The three vectors lie in a --------. The matrix W with those columns\n",
    "*is not invertible.*"
   ]
  },
  {
   "cell_type": "code",
   "execution_count": null,
   "metadata": {
    "collapsed": true
   },
   "outputs": [],
   "source": []
  },
  {
   "cell_type": "markdown",
   "metadata": {},
   "source": [
    "**Problem 1.2:** Multiply:\n",
    "\\begin{equation*}\n",
    "\\begin{bmatrix}\n",
    "1&2&0\\\\2&0&3\\\\4&1&1\n",
    "\\end{bmatrix}\n",
    "\\begin{bmatrix}\n",
    "3\\\\-2\\\\1\n",
    "\\end{bmatrix}\n",
    "\\end{equation*}"
   ]
  },
  {
   "cell_type": "code",
   "execution_count": null,
   "metadata": {
    "collapsed": true
   },
   "outputs": [],
   "source": []
  },
  {
   "cell_type": "markdown",
   "metadata": {},
   "source": [
    "**Problem 1.3:** True or false: *A* 3 by 2 matrix *A* times a 2 by 3 matrix *B*\n",
    "equals a 3 by 3 matrix *AB*. If this is false, write a similar sentence which is\n",
    "correct."
   ]
  },
  {
   "cell_type": "code",
   "execution_count": null,
   "metadata": {
    "collapsed": true
   },
   "outputs": [],
   "source": []
  }
 ],
 "metadata": {
  "kernelspec": {
   "display_name": "Python 3",
   "language": "python",
   "name": "python3"
  },
  "language_info": {
   "codemirror_mode": {
    "name": "ipython",
    "version": 3
   },
   "file_extension": ".py",
   "mimetype": "text/x-python",
   "name": "python",
   "nbconvert_exporter": "python",
   "pygments_lexer": "ipython3",
   "version": "3.6.2"
  }
 },
 "nbformat": 4,
 "nbformat_minor": 2
}
